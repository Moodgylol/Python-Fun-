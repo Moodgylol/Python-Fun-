{
 "cells": [
  {
   "cell_type": "code",
   "execution_count": 12,
   "metadata": {
    "colab": {
     "base_uri": "https://localhost:8080/"
    },
    "id": "LEacGiQf9PgK",
    "outputId": "c6e3a6ff-912e-4221-a571-3b9b49b1b6f0"
   },
   "outputs": [
    {
     "name": "stdout",
     "output_type": "stream",
     "text": [
      "Guess the number between 1 and 10: 1\n",
      "Too low!\n",
      "Guess the number between 1 and 10: 2\n",
      "Too low!\n",
      "Hint: The number is even.\n",
      "Guess the number between 1 and 10: 6\n",
      "Too high!\n",
      "Hint: The number is composite.\n",
      "Sorry, you ran out of guesses. The number was 4\n"
     ]
    }
   ],
   "source": [
    "import random\n",
    "\n",
    "number = random.randint(1, 10)\n",
    "guesses_left = 3\n",
    "\n",
    "while guesses_left > 0:\n",
    "    guess = int(input(\"Guess the number between 1 and 10: \"))\n",
    "    \n",
    "    if guess == number:\n",
    "        print(\"Congratulations! You guessed the number.\")\n",
    "        break\n",
    "    elif guess < number:\n",
    "        print(\"Too low!\")\n",
    "    else:\n",
    "        print(\"Too high!\")\n",
    "    \n",
    "    # Provide hints\n",
    "    if guesses_left == 2:\n",
    "        if number % 2 == 0:\n",
    "            print(\"Hint: The number is even.\")\n",
    "        else:\n",
    "            print(\"Hint: The number is odd.\")\n",
    "    elif guesses_left == 1:\n",
    "        if number < 2:\n",
    "            print(\"Hint: The number is not prime.\")\n",
    "        else:\n",
    "            is_prime = True\n",
    "            for i in range(2, number):\n",
    "                if number % i == 0:\n",
    "                    is_prime = False\n",
    "                    break\n",
    "            if is_prime:\n",
    "                print(\"Hint: The number is prime.\")\n",
    "            else:\n",
    "                print(\"Hint: The number is composite.\")\n",
    "    \n",
    "    guesses_left -= 1\n",
    "\n",
    "if guesses_left == 0:\n",
    "    print(\"Sorry, you ran out of guesses. The number was\", number)\n"
   ]
  }
 ],
 "metadata": {
  "colab": {
   "provenance": []
  },
  "kernelspec": {
   "display_name": "Python 3 (ipykernel)",
   "language": "python",
   "name": "python3"
  },
  "language_info": {
   "codemirror_mode": {
    "name": "ipython",
    "version": 3
   },
   "file_extension": ".py",
   "mimetype": "text/x-python",
   "name": "python",
   "nbconvert_exporter": "python",
   "pygments_lexer": "ipython3",
   "version": "3.10.9"
  }
 },
 "nbformat": 4,
 "nbformat_minor": 1
}
